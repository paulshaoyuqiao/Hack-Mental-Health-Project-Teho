{
 "cells": [
  {
   "cell_type": "code",
   "execution_count": 75,
   "metadata": {
    "collapsed": true
   },
   "outputs": [],
   "source": [
    "def parse_time(List):\n",
    "    Modified = [int(x.split(':')[0])*60+int(x.split(':')[1]) for x in List]\n",
    "    #Create a list with the time in string format parsed and converted into integers (in minutes)\n",
    "    return Modified"
   ]
  },
  {
   "cell_type": "code",
   "execution_count": 76,
   "metadata": {
    "collapsed": true
   },
   "outputs": [],
   "source": [
    "def min_to_time(List):\n",
    "    return [str(x//60)+\":\"+str(x%60)+(\"0:\" if x%60<10 else \":\")+\"00\" for x in List]\n",
    "    #Create a list with time in integers(in minutes) converted back into the string format \n",
    "    #Essentially the inverse of parse_time function"
   ]
  },
  {
   "cell_type": "code",
   "execution_count": 77,
   "metadata": {},
   "outputs": [
    {
     "data": {
      "text/plain": [
       "[120, 240, 480, 720]"
      ]
     },
     "execution_count": 77,
     "metadata": {},
     "output_type": "execute_result"
    }
   ],
   "source": [
    "#Test\n",
    "A = parse_time([\"2:00:00\",\"4:00:00\",\"8:00:00\",\"12:00:00\"])\n",
    "A"
   ]
  },
  {
   "cell_type": "code",
   "execution_count": 78,
   "metadata": {},
   "outputs": [
    {
     "data": {
      "text/plain": [
       "['2:00:00', '4:00:00', '8:00:00', '12:00:00']"
      ]
     },
     "execution_count": 78,
     "metadata": {},
     "output_type": "execute_result"
    }
   ],
   "source": [
    "#Test\n",
    "min_to_time(A)"
   ]
  },
  {
   "cell_type": "code",
   "execution_count": 85,
   "metadata": {
    "collapsed": true
   },
   "outputs": [],
   "source": [
    "def concatenate(A,B):\n",
    "    assert len(A)==len(B)\n",
    "    C = []\n",
    "    for i in range(len(A)):\n",
    "        C.append(A[i]+'-'+B[i])\n",
    "        i += 1\n",
    "    return C\n",
    "    #Return a concatenated list with elements from A, B paired up individually\n"
   ]
  },
  {
   "cell_type": "code",
   "execution_count": 86,
   "metadata": {
    "collapsed": true
   },
   "outputs": [],
   "source": [
    "def schedule(start,end):\n",
    "    start,end = parse_time(start),parse_time(end)\n",
    "    #Parse the start and end lists\n",
    "    first_start = start[0]\n",
    "    #Locate the first starting time of the day\n",
    "    free_start,free_end,free_interval = [],[],[]\n",
    "    \n",
    "    if first_start > 0:\n",
    "        free_start.append(0)\n",
    "        free_end.append(first_start)\n",
    "    #Check if there is free time interval before the first time slot of the day\n",
    "    i = 0\n",
    "    while i<len(start)-1:\n",
    "        last_end = end[i]\n",
    "        next_start = start[i+1]\n",
    "        if next_start > last_end:\n",
    "            #The condition above checks for overlaps\n",
    "            free_start.append(last_end)\n",
    "            free_end.append(next_start)\n",
    "        i += 1\n",
    "    #Loop through and append the new free time interval; check for overlaps\n",
    "    if end[len(end)-1]<23*60+59:\n",
    "        free_start.append(end[len(end)-1])\n",
    "        free_end.append(23*60+59)\n",
    "    #Check if there is free time interval after the last time slot of the day\n",
    "    \n",
    "    final_free_start = min_to_time(free_start)\n",
    "    final_free_end = min_to_time(free_end)\n",
    "    free_schedule = concatenate(final_free_start,final_free_end)\n",
    "    #Concatennating all the start and end free time\n",
    "    return free_schedule\n"
   ]
  },
  {
   "cell_type": "code",
   "execution_count": 87,
   "metadata": {},
   "outputs": [
    {
     "name": "stdout",
     "output_type": "stream",
     "text": [
      "[420, 540, 570, 1080]\n",
      "[510, 600, 870, 1365]\n"
     ]
    }
   ],
   "source": [
    "start = ['7:00:00','9:00:00','9:30:00','18:00:00']\n",
    "end = ['8:30:00','10:00:00','14:30:00','22:45:00']\n",
    "print(parse_time(start))\n",
    "print(parse_time(end))"
   ]
  },
  {
   "cell_type": "code",
   "execution_count": 88,
   "metadata": {},
   "outputs": [
    {
     "data": {
      "text/plain": [
       "['0:00:00-7:00:00',\n",
       " '8:30:00-9:00:00',\n",
       " '14:30:00-18:00:00',\n",
       " '22:45:00-23:59:00']"
      ]
     },
     "execution_count": 88,
     "metadata": {},
     "output_type": "execute_result"
    }
   ],
   "source": [
    "schedule(start,end)"
   ]
  },
  {
   "cell_type": "code",
   "execution_count": null,
   "metadata": {
    "collapsed": true
   },
   "outputs": [],
   "source": [
    "def break_insert(frequency,preferred_time_range,free_interval):\n",
    "    if frequency > len(free_interval):\n",
    "        break_insert(len(free_interval),preferred_time_range, free_interval)\n",
    "    else:\n",
    "        \n",
    "    "
   ]
  }
 ],
 "metadata": {
  "kernelspec": {
   "display_name": "Python 3",
   "language": "python",
   "name": "python3"
  },
  "language_info": {
   "codemirror_mode": {
    "name": "ipython",
    "version": 3
   },
   "file_extension": ".py",
   "mimetype": "text/x-python",
   "name": "python",
   "nbconvert_exporter": "python",
   "pygments_lexer": "ipython3",
   "version": "3.6.1"
  }
 },
 "nbformat": 4,
 "nbformat_minor": 2
}
